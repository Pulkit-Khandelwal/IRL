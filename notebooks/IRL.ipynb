{
 "cells": [
  {
   "cell_type": "code",
   "execution_count": 2,
   "metadata": {
    "collapsed": true
   },
   "outputs": [],
   "source": [
    "import numpy as np\n",
    "from numpy.linalg import inv\n",
    "from sklearn.preprocessing import normalize\n",
    "from scipy.optimize import linprog\n",
    "import matplotlib.pyplot as plt\n",
    "%matplotlib inline"
   ]
  },
  {
   "cell_type": "code",
   "execution_count": 3,
   "metadata": {
    "collapsed": true
   },
   "outputs": [],
   "source": [
    "def heatmap(a):\n",
    "    \"\"\"a: 2D array to plot as a heatmap\"\"\"\n",
    "    #plt.imshow(a, cmap='hot', interpolation='nearest')\n",
    "    plt.imshow(a, cmap='gray', interpolation='nearest')\n",
    "    plt.show()"
   ]
  },
  {
   "cell_type": "code",
   "execution_count": 5,
   "metadata": {
    "collapsed": true
   },
   "outputs": [],
   "source": [
    "#  +-----------> x\n",
    "#  | . . . . .\n",
    "#  | . . . . .\n",
    "#  | . . . . .\n",
    "#  | . . . . .\n",
    "#  | . . . . .\n",
    "#  v\n",
    "# y\n",
    "gamma = 0.9"
   ]
  },
  {
   "cell_type": "code",
   "execution_count": 6,
   "metadata": {
    "collapsed": true
   },
   "outputs": [],
   "source": [
    "# States\n",
    "w, h = 5, 5\n",
    "grid = np.zeros((w, h))\n",
    "n = grid.size\n",
    "S = np.eye(n, n)"
   ]
  },
  {
   "cell_type": "code",
   "execution_count": 7,
   "metadata": {
    "collapsed": true
   },
   "outputs": [],
   "source": [
    "# Actions\n",
    "k = 5\n",
    "A = np.eye(k)\n",
    "UP, DOWN, RIGHT, LEFT, NOOP = 0, 1, 2, 3, 4"
   ]
  },
  {
   "cell_type": "code",
   "execution_count": 9,
   "metadata": {
    "collapsed": true
   },
   "outputs": [],
   "source": [
    "# Transition probabilities\n",
    "P = np.zeros((k, n, n))\n",
    "#\n",
    "# P[a, s2, s1] is the probability of ending in state s2 given that the agent\n",
    "# starts in state s1 and chose action a.\n",
    "# It is important to note that the initial state is the column index, not the\n",
    "# row index, so that we can use vector representation of state, S2 = P[a] . S1\n",
    "#\n",
    "# /!\\ This is the transposed of what the paper calls P_a\n",
    "#\n",
    "# P[UP, (x, y), (x, y + 1)] = 0.7\n",
    "# P[UP, (x, y), (x, y - 1)] = 0.1\n",
    "# P[UP, (x, y), (x + 1, y)] = 0.1\n",
    "# P[UP, (x, y), (x - 1, y)] = 0.1\n",
    "# P[UP, (x, y), (other)] = 0\n",
    "\n",
    "# Masks used to block illegal moves on grid border\n",
    "mask = np.zeros((k, n))\n",
    "grid.fill(1)\n",
    "grid[0,:] = 0\n",
    "mask[UP] = grid.reshape(-1)\n",
    "grid.fill(1)\n",
    "grid[-1,:] = 0\n",
    "mask[DOWN] = grid.reshape(-1)\n",
    "grid.fill(1)\n",
    "grid[:,-1] = 0\n",
    "mask[RIGHT] = grid.reshape(-1)\n",
    "grid.fill(1)\n",
    "grid[:,0] = 0\n",
    "mask[LEFT] = grid.reshape(-1)\n",
    "\n",
    "# `move` is the non randomized action transition tensor, used in a second time\n",
    "# to build P\n",
    "move = np.zeros((k, n, n))\n",
    "move[UP]    = np.roll(S, shift=-w, axis=0) * mask[UP]\n",
    "move[DOWN]  = np.roll(S, shift=+w, axis=0) * mask[DOWN]\n",
    "move[RIGHT] = np.roll(S, shift=+1, axis=0) * mask[RIGHT]\n",
    "move[LEFT]  = np.roll(S, shift=-1, axis=0) * mask[LEFT]\n",
    "\n",
    "directions = [UP, DOWN, RIGHT, LEFT]\n",
    "for d in directions:\n",
    "    # First build the random diffusion\n",
    "    P[d] += sum([ move[x] for x in directions if x != d ])\n",
    "    # Normalize random diffusion and multiply it by 30%\n",
    "    P[d] = normalize(P[d], axis=0, norm='l1') * 0.3\n",
    "    # Add the main direction\n",
    "    P[d] += move[d] * 0.7\n",
    "    # Renormalize for cells in which random diffusion was 0\n",
    "    P[d] = normalize(P[d], axis=0, norm='l1')\n",
    "\n",
    "P[NOOP] = np.eye(n)\n"
   ]
  },
  {
   "cell_type": "code",
   "execution_count": 10,
   "metadata": {
    "collapsed": false
   },
   "outputs": [
    {
     "data": {
      "image/png": "[encoded data removed]",
      "text/plain": [
       "<matplotlib.figure.Figure at 0x7fc02f4c3898>"
      ]
     },
     "metadata": {},
     "output_type": "display_data"
    }
   ],
   "source": [
    "# Example of test of P:\n",
    "# > P[LEFT].dot(S[17]).reshape(w, h)\n",
    "# This will show a 2D matrix representing the grid with the probability of\n",
    "# being in the cells given that we were in state 17 and chosed action LEFT.\n",
    "heatmap(P[LEFT])"
   ]
  },
  {
   "cell_type": "code",
   "execution_count": 11,
   "metadata": {
    "collapsed": true
   },
   "outputs": [],
   "source": [
    "# \"True\" Reinforcement/Reward function, that we will try to guess.\n",
    "grid.fill(0)\n",
    "grid[0,-1] = 1\n",
    "R = grid.reshape(-1)\n",
    "Rmax = 1.0"
   ]
  },
  {
   "cell_type": "code",
   "execution_count": 12,
   "metadata": {
    "collapsed": false
   },
   "outputs": [
    {
     "data": {
      "image/png": "[encoded data removed]",
      "text/plain": [
       "<matplotlib.figure.Figure at 0x7fc02f474e80>"
      ]
     },
     "metadata": {},
     "output_type": "display_data"
    }
   ],
   "source": [
    "# Observed agent action decision policy, from which we'll try to recover R\n",
    "# (for the case w = h = 5)\n",
    "policy = np.array([\n",
    "    [RIGHT, RIGHT, RIGHT, RIGHT, NOOP],\n",
    "    [UP,    RIGHT, RIGHT, UP,    UP  ],\n",
    "    [UP   , UP   , UP   , UP   , UP  ],\n",
    "    [UP   , UP   , RIGHT, UP   , UP  ],\n",
    "    [UP   , RIGHT, RIGHT, RIGHT, UP  ],\n",
    "]).reshape(-1)\n",
    "\n",
    "heatmap(policy.reshape(w, h))"
   ]
  },
  {
   "cell_type": "code",
   "execution_count": 13,
   "metadata": {
    "collapsed": true
   },
   "outputs": [],
   "source": [
    "# TODO: Linear pb to solve:\n",
    "# max sum(i = 1..n, min(a = 1..k and a != policy[i], (P[policy[i]][i] - P[a][i]) . (I - gamma * P[policy[i]]).inverse() . R ) - lambd * norm1(R) )\n",
    "# w/ (P[policy[i]][i] - P[a][i]) . (I - gamma * P[policy[i]]).inverse() . R >= 0 forall a != policy[i] \n",
    "\n",
    "I = np.eye(n)\n",
    "nR = np.ndarray(n)\n",
    "J = np.ndarray((k, n, n))\n",
    "for a in range(k):\n",
    "    J[a] = inv(I - gamma * P[a])\n",
    "\n",
    "# Upper bound condition:\n",
    "# (P[a1] - P[a]) . inv(I - gamma * P[a1]) . -R <= 0 forall a != a1 forall a1 = pi(s)\n",
    "tr = np.transpose\n",
    "nb_constraints = n * k * (k - 1) + n * (k - 1)\n",
    "A = np.zeros((nb_constraints, 2 * n))\n",
    "cursor = 0\n",
    "# /!\\ we assume here that all possible actions are used by the policy,\n",
    "# i.e. {a | exists state s st. a = pi(s) } = A\n",
    "# otherwise, we would have to take a1 in values(policy)\n",
    "for ai in range(k):\n",
    "    for aj in range(k):\n",
    "        if ai == aj:\n",
    "            continue\n",
    "        A[cursor:cursor + n, 0:n] = tr(P[ai] - P[aj]).dot(tr(J[ai]))\n",
    "        cursor += n\n",
    "\n",
    "for i in range(n):\n",
    "    a1 = policy[i]\n",
    "    for a in range(k):\n",
    "        if a == a1:\n",
    "            continue\n",
    "        A[cursor, 0:n] = tr(P[a1, :, i] - P[a, :, i]).dot(tr(J[a1]))\n",
    "        A[cursor, n + i] = -1\n",
    "        cursor += 1\n",
    "\n",
    "b = np.zeros(nb_constraints)\n",
    "\n",
    "lamb = 10000.\n",
    "c = np.ndarray(2 * n)\n",
    "c[:n] = -lamb\n",
    "c[n:] = 1\n",
    "\n"
   ]
  },
  {
   "cell_type": "code",
   "execution_count": 14,
   "metadata": {
    "collapsed": false
   },
   "outputs": [
    {
     "data": {
      "image/png": "[encoded data removed]",
      "text/plain": [
       "<matplotlib.figure.Figure at 0x7fc02f48a320>"
      ]
     },
     "metadata": {},
     "output_type": "display_data"
    }
   ],
   "source": [
    "bounds = np.array( [(-Rmax, 0) for i in range(n)] + [(-1000000, 1000000) for i in range(n)] )\n",
    "\n",
    "res = linprog(c, A, b, bounds=bounds)\n",
    "heatmap(-res['x'][:n].reshape(w, h))\n"
   ]
  },
  {
   "cell_type": "code",
   "execution_count": null,
   "metadata": {
    "collapsed": true
   },
   "outputs": [],
   "source": []
  }
 ],
 "metadata": {
  "kernelspec": {
   "display_name": "Python 3",
   "language": "python",
   "name": "python3"
  },
  "language_info": {
   "codemirror_mode": {
    "name": "ipython",
    "version": 3
   },
   "file_extension": ".py",
   "mimetype": "text/x-python",
   "name": "python",
   "nbconvert_exporter": "python",
   "pygments_lexer": "ipython3",
   "version": "3.5.2"
  }
 },
 "nbformat": 4,
 "nbformat_minor": 0
}
